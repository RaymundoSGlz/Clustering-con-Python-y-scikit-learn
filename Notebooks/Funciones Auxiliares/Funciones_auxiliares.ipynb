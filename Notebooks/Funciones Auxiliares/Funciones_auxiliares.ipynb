{
 "cells": [
  {
   "cell_type": "code",
   "execution_count": null,
   "metadata": {},
   "outputs": [],
   "source": [
    "def plot_2d_clusters(x,y,ax):\n",
    "    y_uniques = pd.Series(y).unique()\n",
    "\n",
    "    for _ in y_uniques:\n",
    "        x[y==_].plot(\n",
    "            title=f'{len(y_uniques)} Clusters',\n",
    "            kind='scatter',\n",
    "            x='x1',\n",
    "            y='x2',\n",
    "            marker = f'${_}$',\n",
    "            ax = ax\n",
    "        )"
   ]
  }
 ],
 "metadata": {
  "kernelspec": {
   "display_name": "Python 3",
   "language": "python",
   "name": "python3"
  },
  "language_info": {
   "name": "python",
   "version": "3.10.9"
  },
  "orig_nbformat": 4,
  "vscode": {
   "interpreter": {
    "hash": "3ef6e1a8a3224157454c386edfa56ccf69617aaa84c3186f555e7c602618dd7d"
   }
  }
 },
 "nbformat": 4,
 "nbformat_minor": 2
}
